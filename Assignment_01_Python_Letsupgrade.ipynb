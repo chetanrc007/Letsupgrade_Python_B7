{
  "nbformat": 4,
  "nbformat_minor": 0,
  "metadata": {
    "colab": {
      "name": "Assignment-01_Python_Letsupgrade.ipynb",
      "provenance": [],
      "collapsed_sections": []
    },
    "kernelspec": {
      "name": "python3",
      "display_name": "Python 3"
    }
  },
  "cells": [
    {
      "cell_type": "markdown",
      "metadata": {
        "id": "a_0WVtDQkvsE",
        "colab_type": "text"
      },
      "source": [
        "**List and it's Default functions**"
      ]
    },
    {
      "cell_type": "code",
      "metadata": {
        "id": "0qH-e3UNYg86",
        "colab_type": "code",
        "colab": {}
      },
      "source": [
        "lst = [\"Chetan\", 247.9, \"tea\", 560, \"Let'supgrade\"]\n"
      ],
      "execution_count": null,
      "outputs": []
    },
    {
      "cell_type": "code",
      "metadata": {
        "id": "xWfA2lBWg3FF",
        "colab_type": "code",
        "colab": {
          "base_uri": "https://localhost:8080/",
          "height": 34
        },
        "outputId": "7616d5c0-daf8-4e35-a63d-839ef7939c4f"
      },
      "source": [
        "lst"
      ],
      "execution_count": null,
      "outputs": [
        {
          "output_type": "execute_result",
          "data": {
            "text/plain": [
              "['Chetan', 247.9, 'tea', 560, \"Let'supgrade\"]"
            ]
          },
          "metadata": {
            "tags": []
          },
          "execution_count": 15
        }
      ]
    },
    {
      "cell_type": "code",
      "metadata": {
        "id": "nVsd4R70g6FP",
        "colab_type": "code",
        "colab": {
          "base_uri": "https://localhost:8080/",
          "height": 34
        },
        "outputId": "7bbcdcaf-d5e6-41f6-b7d9-c3f12abb1dee"
      },
      "source": [
        "lst.index('tea')\n"
      ],
      "execution_count": null,
      "outputs": [
        {
          "output_type": "execute_result",
          "data": {
            "text/plain": [
              "2"
            ]
          },
          "metadata": {
            "tags": []
          },
          "execution_count": 17
        }
      ]
    },
    {
      "cell_type": "code",
      "metadata": {
        "id": "aTx4tPrVhfn6",
        "colab_type": "code",
        "colab": {}
      },
      "source": [
        "lst.append(\"007\")"
      ],
      "execution_count": null,
      "outputs": []
    },
    {
      "cell_type": "code",
      "metadata": {
        "id": "PaqL_N04jyF0",
        "colab_type": "code",
        "colab": {
          "base_uri": "https://localhost:8080/",
          "height": 34
        },
        "outputId": "e18fa3d0-f7d7-43b7-f37d-934a21c9a8c4"
      },
      "source": [
        "lst"
      ],
      "execution_count": null,
      "outputs": [
        {
          "output_type": "execute_result",
          "data": {
            "text/plain": [
              "['Chetan', 247.9, 'tea', 560, \"Let'supgrade\", '007', '007']"
            ]
          },
          "metadata": {
            "tags": []
          },
          "execution_count": 23
        }
      ]
    },
    {
      "cell_type": "code",
      "metadata": {
        "id": "2NcbP0PFj6KM",
        "colab_type": "code",
        "colab": {}
      },
      "source": [
        "lst.insert(1,\"P\")"
      ],
      "execution_count": null,
      "outputs": []
    },
    {
      "cell_type": "code",
      "metadata": {
        "id": "V1Fzun31kL2p",
        "colab_type": "code",
        "colab": {
          "base_uri": "https://localhost:8080/",
          "height": 34
        },
        "outputId": "dbec0a90-8e01-4ee4-c809-fd3026991d1f"
      },
      "source": [
        "lst"
      ],
      "execution_count": null,
      "outputs": [
        {
          "output_type": "execute_result",
          "data": {
            "text/plain": [
              "['Chetan', 'P', 247.9, 'tea', 560, \"Let'supgrade\", '007', '007']"
            ]
          },
          "metadata": {
            "tags": []
          },
          "execution_count": 26
        }
      ]
    },
    {
      "cell_type": "code",
      "metadata": {
        "id": "UlpH-o8wkO8E",
        "colab_type": "code",
        "colab": {}
      },
      "source": [
        "lst.extend(\"1\")"
      ],
      "execution_count": null,
      "outputs": []
    },
    {
      "cell_type": "code",
      "metadata": {
        "id": "jgIghTKOkXCf",
        "colab_type": "code",
        "colab": {
          "base_uri": "https://localhost:8080/",
          "height": 34
        },
        "outputId": "ab454476-f01c-4a33-ef3c-2c93ed0906b4"
      },
      "source": [
        "lst"
      ],
      "execution_count": null,
      "outputs": [
        {
          "output_type": "execute_result",
          "data": {
            "text/plain": [
              "['Chetan', 'P', 247.9, 'tea', 560, \"Let'supgrade\", '007', '007', '1']"
            ]
          },
          "metadata": {
            "tags": []
          },
          "execution_count": 29
        }
      ]
    },
    {
      "cell_type": "code",
      "metadata": {
        "id": "AWMK7T2mkko1",
        "colab_type": "code",
        "colab": {
          "base_uri": "https://localhost:8080/",
          "height": 34
        },
        "outputId": "e618263c-4b41-47be-a2cb-9d027aa10cab"
      },
      "source": [
        "lst"
      ],
      "execution_count": null,
      "outputs": [
        {
          "output_type": "execute_result",
          "data": {
            "text/plain": [
              "['Chetan', 247.9, 'tea', 560, \"Let'supgrade\", '007', '007', '1']"
            ]
          },
          "metadata": {
            "tags": []
          },
          "execution_count": 32
        }
      ]
    },
    {
      "cell_type": "code",
      "metadata": {
        "id": "PmKp8LfbkZz4",
        "colab_type": "code",
        "colab": {
          "base_uri": "https://localhost:8080/",
          "height": 35
        },
        "outputId": "7852250c-ab9c-4b1e-e694-0ce4e3074575"
      },
      "source": [
        "lst.pop(1)"
      ],
      "execution_count": null,
      "outputs": [
        {
          "output_type": "execute_result",
          "data": {
            "application/vnd.google.colaboratory.intrinsic+json": {
              "type": "string"
            },
            "text/plain": [
              "'P'"
            ]
          },
          "metadata": {
            "tags": []
          },
          "execution_count": 31
        }
      ]
    },
    {
      "cell_type": "markdown",
      "metadata": {
        "id": "yc9imxw8ljNw",
        "colab_type": "text"
      },
      "source": [
        "***Dictionary***\n"
      ]
    },
    {
      "cell_type": "markdown",
      "metadata": {
        "id": "F3U6AnhYlYEd",
        "colab_type": "text"
      },
      "source": [
        "**`*Dictionary and it's default methods*`**"
      ]
    },
    {
      "cell_type": "code",
      "metadata": {
        "id": "aQUAEpeTlHK3",
        "colab_type": "code",
        "colab": {}
      },
      "source": [
        "dit = {\"Brand\": \"Ship\", \"varient\" : \"titan\", \"model\" : \"Jelly\", \"series\" : \"pro max\"}"
      ],
      "execution_count": 33,
      "outputs": []
    },
    {
      "cell_type": "code",
      "metadata": {
        "id": "5Kl-xXLLoHiX",
        "colab_type": "code",
        "colab": {
          "base_uri": "https://localhost:8080/",
          "height": 35
        },
        "outputId": "d285ec5c-f71e-45d5-aee6-b7846d16adf3"
      },
      "source": [
        "dit.get(\"Brand\")"
      ],
      "execution_count": 36,
      "outputs": [
        {
          "output_type": "execute_result",
          "data": {
            "application/vnd.google.colaboratory.intrinsic+json": {
              "type": "string"
            },
            "text/plain": [
              "'Ship'"
            ]
          },
          "metadata": {
            "tags": []
          },
          "execution_count": 36
        }
      ]
    },
    {
      "cell_type": "code",
      "metadata": {
        "id": "92B29a_HoSfP",
        "colab_type": "code",
        "colab": {
          "base_uri": "https://localhost:8080/",
          "height": 34
        },
        "outputId": "9b286ade-84ec-4fb0-e2ef-8448ea78f80a"
      },
      "source": [
        "dit.items()"
      ],
      "execution_count": 43,
      "outputs": [
        {
          "output_type": "execute_result",
          "data": {
            "text/plain": [
              "dict_items([('Brand', 'Ship'), ('varient', 'titan'), ('model', 'Jelly'), ('series', 'pro max')])"
            ]
          },
          "metadata": {
            "tags": []
          },
          "execution_count": 43
        }
      ]
    },
    {
      "cell_type": "code",
      "metadata": {
        "id": "bP4pFIOjo9kD",
        "colab_type": "code",
        "colab": {
          "base_uri": "https://localhost:8080/",
          "height": 34
        },
        "outputId": "a2ed36fc-4cc4-426c-9430-b86dfbf5eba3"
      },
      "source": [
        "dit.keys()"
      ],
      "execution_count": 46,
      "outputs": [
        {
          "output_type": "execute_result",
          "data": {
            "text/plain": [
              "dict_keys(['Brand', 'varient', 'model', 'series'])"
            ]
          },
          "metadata": {
            "tags": []
          },
          "execution_count": 46
        }
      ]
    },
    {
      "cell_type": "code",
      "metadata": {
        "id": "PkOIho6MpP2Z",
        "colab_type": "code",
        "colab": {
          "base_uri": "https://localhost:8080/",
          "height": 35
        },
        "outputId": "e8be078f-49d7-4411-8524-a1f1cf950480"
      },
      "source": [
        "dit.pop(\"series\")"
      ],
      "execution_count": 47,
      "outputs": [
        {
          "output_type": "execute_result",
          "data": {
            "application/vnd.google.colaboratory.intrinsic+json": {
              "type": "string"
            },
            "text/plain": [
              "'pro max'"
            ]
          },
          "metadata": {
            "tags": []
          },
          "execution_count": 47
        }
      ]
    },
    {
      "cell_type": "code",
      "metadata": {
        "id": "Wy2fciePpbGU",
        "colab_type": "code",
        "colab": {
          "base_uri": "https://localhost:8080/",
          "height": 34
        },
        "outputId": "40c03801-3dba-409f-e054-5edd768f056c"
      },
      "source": [
        "dit"
      ],
      "execution_count": 48,
      "outputs": [
        {
          "output_type": "execute_result",
          "data": {
            "text/plain": [
              "{'Brand': 'Ship', 'model': 'Jelly', 'varient': 'titan'}"
            ]
          },
          "metadata": {
            "tags": []
          },
          "execution_count": 48
        }
      ]
    },
    {
      "cell_type": "code",
      "metadata": {
        "id": "9N35uJHIphHf",
        "colab_type": "code",
        "colab": {}
      },
      "source": [
        "dit[\"sub series\"] = \"plus\""
      ],
      "execution_count": 50,
      "outputs": []
    },
    {
      "cell_type": "code",
      "metadata": {
        "id": "p3WBJPFSpw5a",
        "colab_type": "code",
        "colab": {
          "base_uri": "https://localhost:8080/",
          "height": 34
        },
        "outputId": "26f71fdc-8931-464c-8872-6dc21eb97abb"
      },
      "source": [
        "dit"
      ],
      "execution_count": 51,
      "outputs": [
        {
          "output_type": "execute_result",
          "data": {
            "text/plain": [
              "{'Brand': 'Ship', 'model': 'Jelly', 'sub series': 'plus', 'varient': 'titan'}"
            ]
          },
          "metadata": {
            "tags": []
          },
          "execution_count": 51
        }
      ]
    },
    {
      "cell_type": "markdown",
      "metadata": {
        "id": "-bKhAUtpp9bm",
        "colab_type": "text"
      },
      "source": [
        "Sets and it's functions\n"
      ]
    },
    {
      "cell_type": "code",
      "metadata": {
        "id": "asLjAAmDp6Hi",
        "colab_type": "code",
        "colab": {}
      },
      "source": [
        "st = {5,6,3,1,3,8,9,7} "
      ],
      "execution_count": 52,
      "outputs": []
    },
    {
      "cell_type": "code",
      "metadata": {
        "id": "SI2ODmCkqhB5",
        "colab_type": "code",
        "colab": {
          "base_uri": "https://localhost:8080/",
          "height": 34
        },
        "outputId": "dada255d-4abf-44e4-c52a-76e9bf4886b3"
      },
      "source": [
        "st"
      ],
      "execution_count": 53,
      "outputs": [
        {
          "output_type": "execute_result",
          "data": {
            "text/plain": [
              "{1, 3, 5, 6, 7, 8, 9}"
            ]
          },
          "metadata": {
            "tags": []
          },
          "execution_count": 53
        }
      ]
    },
    {
      "cell_type": "code",
      "metadata": {
        "id": "iKg_bLVzqmRU",
        "colab_type": "code",
        "colab": {}
      },
      "source": [
        "st1 = {1,3,\"frame\"}"
      ],
      "execution_count": 54,
      "outputs": []
    },
    {
      "cell_type": "code",
      "metadata": {
        "id": "PqO9W6qrqsw9",
        "colab_type": "code",
        "colab": {
          "base_uri": "https://localhost:8080/",
          "height": 34
        },
        "outputId": "5f649c5e-294a-4976-ec10-4de2b15d5111"
      },
      "source": [
        "st.intersection(st1)"
      ],
      "execution_count": 55,
      "outputs": [
        {
          "output_type": "execute_result",
          "data": {
            "text/plain": [
              "{1, 3}"
            ]
          },
          "metadata": {
            "tags": []
          },
          "execution_count": 55
        }
      ]
    },
    {
      "cell_type": "code",
      "metadata": {
        "id": "4We_zEzAq39f",
        "colab_type": "code",
        "colab": {
          "base_uri": "https://localhost:8080/",
          "height": 34
        },
        "outputId": "38c5bc5f-2583-4c2c-f058-0bc01477d7ba"
      },
      "source": [
        "st1.isdisjoint(st)"
      ],
      "execution_count": 56,
      "outputs": [
        {
          "output_type": "execute_result",
          "data": {
            "text/plain": [
              "False"
            ]
          },
          "metadata": {
            "tags": []
          },
          "execution_count": 56
        }
      ]
    },
    {
      "cell_type": "code",
      "metadata": {
        "id": "MK7MSJZ8q-FB",
        "colab_type": "code",
        "colab": {
          "base_uri": "https://localhost:8080/",
          "height": 34
        },
        "outputId": "c9f0fda8-e39a-4a80-8e55-8e7a420904c5"
      },
      "source": [
        "st1.issubset(st)"
      ],
      "execution_count": 57,
      "outputs": [
        {
          "output_type": "execute_result",
          "data": {
            "text/plain": [
              "False"
            ]
          },
          "metadata": {
            "tags": []
          },
          "execution_count": 57
        }
      ]
    },
    {
      "cell_type": "code",
      "metadata": {
        "id": "WGUCAwmcrCTW",
        "colab_type": "code",
        "colab": {
          "base_uri": "https://localhost:8080/",
          "height": 34
        },
        "outputId": "9e6c460e-0b0b-4554-b6ee-bee910dfd00f"
      },
      "source": [
        "st.issuperset(st1)"
      ],
      "execution_count": 59,
      "outputs": [
        {
          "output_type": "execute_result",
          "data": {
            "text/plain": [
              "False"
            ]
          },
          "metadata": {
            "tags": []
          },
          "execution_count": 59
        }
      ]
    },
    {
      "cell_type": "code",
      "metadata": {
        "id": "tJd7o9-6rLU0",
        "colab_type": "code",
        "colab": {
          "base_uri": "https://localhost:8080/",
          "height": 34
        },
        "outputId": "a100b27b-c051-4049-cbc6-4370ecd5b9cf"
      },
      "source": [
        "st1.union(st)"
      ],
      "execution_count": 60,
      "outputs": [
        {
          "output_type": "execute_result",
          "data": {
            "text/plain": [
              "{1, 3, 5, 6, 7, 8, 9, 'frame'}"
            ]
          },
          "metadata": {
            "tags": []
          },
          "execution_count": 60
        }
      ]
    },
    {
      "cell_type": "markdown",
      "metadata": {
        "id": "DMQ3I3C0rQbi",
        "colab_type": "text"
      },
      "source": [
        "* Tuples and it's functions*"
      ]
    },
    {
      "cell_type": "code",
      "metadata": {
        "id": "_3GHQytTrpOa",
        "colab_type": "code",
        "colab": {}
      },
      "source": [
        "tup = (\"Fish\", \"Goat\", \"Hen\",\"Camel\", 256)"
      ],
      "execution_count": 66,
      "outputs": []
    },
    {
      "cell_type": "code",
      "metadata": {
        "id": "ZwHX8eDWr6cY",
        "colab_type": "code",
        "colab": {
          "base_uri": "https://localhost:8080/",
          "height": 34
        },
        "outputId": "fb11ed0b-9f7a-4f31-92af-1aec8dda134e"
      },
      "source": [
        "tup"
      ],
      "execution_count": 67,
      "outputs": [
        {
          "output_type": "execute_result",
          "data": {
            "text/plain": [
              "('Fish', 'Goat', 'Hen', 'Camel', 256)"
            ]
          },
          "metadata": {
            "tags": []
          },
          "execution_count": 67
        }
      ]
    },
    {
      "cell_type": "code",
      "metadata": {
        "id": "J6nmSGQgr8BV",
        "colab_type": "code",
        "colab": {
          "base_uri": "https://localhost:8080/",
          "height": 34
        },
        "outputId": "d593e242-5e88-4de3-aa1c-6a0c74aab63e"
      },
      "source": [
        "tup.count(3)"
      ],
      "execution_count": 68,
      "outputs": [
        {
          "output_type": "execute_result",
          "data": {
            "text/plain": [
              "0"
            ]
          },
          "metadata": {
            "tags": []
          },
          "execution_count": 68
        }
      ]
    },
    {
      "cell_type": "code",
      "metadata": {
        "id": "U52fXtSosEZa",
        "colab_type": "code",
        "colab": {
          "base_uri": "https://localhost:8080/",
          "height": 34
        },
        "outputId": "d5da329e-7b11-4612-dda1-ff96975d8650"
      },
      "source": [
        "tup.count(4)"
      ],
      "execution_count": 69,
      "outputs": [
        {
          "output_type": "execute_result",
          "data": {
            "text/plain": [
              "0"
            ]
          },
          "metadata": {
            "tags": []
          },
          "execution_count": 69
        }
      ]
    },
    {
      "cell_type": "code",
      "metadata": {
        "id": "e3n_7kopsRYB",
        "colab_type": "code",
        "colab": {
          "base_uri": "https://localhost:8080/",
          "height": 34
        },
        "outputId": "19dd40bb-cdc3-4bfb-da42-d7bcfd92959e"
      },
      "source": [
        "tup.index(\"Camel\")"
      ],
      "execution_count": 71,
      "outputs": [
        {
          "output_type": "execute_result",
          "data": {
            "text/plain": [
              "3"
            ]
          },
          "metadata": {
            "tags": []
          },
          "execution_count": 71
        }
      ]
    },
    {
      "cell_type": "code",
      "metadata": {
        "id": "IZ1fhxXssXbr",
        "colab_type": "code",
        "colab": {
          "base_uri": "https://localhost:8080/",
          "height": 34
        },
        "outputId": "770b2f8c-852a-4b59-e095-3543bbf92564"
      },
      "source": [
        "tup.index(256)"
      ],
      "execution_count": 72,
      "outputs": [
        {
          "output_type": "execute_result",
          "data": {
            "text/plain": [
              "4"
            ]
          },
          "metadata": {
            "tags": []
          },
          "execution_count": 72
        }
      ]
    }
  ]
}