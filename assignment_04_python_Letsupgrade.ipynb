{
  "nbformat": 4,
  "nbformat_minor": 0,
  "metadata": {
    "colab": {
      "name": "assignment-04_python_Letsupgrade.ipynb",
      "provenance": [],
      "collapsed_sections": []
    },
    "kernelspec": {
      "name": "python3",
      "display_name": "Python 3"
    }
  },
  "cells": [
    {
      "cell_type": "code",
      "metadata": {
        "id": "jgGbUcoAyn3S",
        "colab_type": "code",
        "colab": {
          "base_uri": "https://localhost:8080/",
          "height": 34
        },
        "outputId": "641e6444-945b-4ea2-98e8-c3d3c9f62963"
      },
      "source": [
        "\n",
        "for num in range(1042000,702648265):\n",
        "    order = len(str(num))\n",
        "    sum = 0\n",
        "    #find the sum of the cube of each digit\n",
        "    temp = num\n",
        "    while temp > 0:\n",
        "        digit = temp % 10\n",
        "        sum += digit ** order \n",
        "        temp //= 10\n",
        "    if num == sum:\n",
        "        print(num, end = ' ')"
      ],
      "execution_count": null,
      "outputs": [
        {
          "output_type": "stream",
          "text": [
            "1741725 4210818 9800817 9926315 24678050 24678051 88593477 146511208 472335975 534494836 "
          ],
          "name": "stdout"
        }
      ]
    }
  ]
}